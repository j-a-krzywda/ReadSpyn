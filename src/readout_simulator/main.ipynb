{
 "cells": [
  {
   "cell_type": "code",
   "execution_count": null,
   "id": "a776c59e",
   "metadata": {},
   "outputs": [
    {
     "ename": "ImportError",
     "evalue": "attempted relative import with no known parent package",
     "output_type": "error",
     "traceback": [
      "\u001b[0;31m---------------------------------------------------------------------------\u001b[0m",
      "\u001b[0;31mImportError\u001b[0m                               Traceback (most recent call last)",
      "Cell \u001b[0;32mIn[4], line 4\u001b[0m\n\u001b[1;32m      1\u001b[0m \u001b[38;5;66;03m# src/readout_simulator/main.py\u001b[39;00m\n\u001b[1;32m      3\u001b[0m \u001b[38;5;28;01mimport\u001b[39;00m \u001b[38;5;21;01mnumpy\u001b[39;00m \u001b[38;5;28;01mas\u001b[39;00m \u001b[38;5;21;01mnp\u001b[39;00m\n\u001b[0;32m----> 4\u001b[0m \u001b[38;5;28;01mfrom\u001b[39;00m \u001b[38;5;21;01msimulator\u001b[39;00m \u001b[38;5;28;01mimport\u001b[39;00m ReadoutSimulator\n\u001b[1;32m      5\u001b[0m \u001b[38;5;28;01mfrom\u001b[39;00m \u001b[38;5;21;01msensor\u001b[39;00m \u001b[38;5;28;01mimport\u001b[39;00m Resonator\n\u001b[1;32m      6\u001b[0m \u001b[38;5;28;01mfrom\u001b[39;00m \u001b[38;5;21;01mnoise_models\u001b[39;00m \u001b[38;5;28;01mimport\u001b[39;00m OverFNoise\n",
      "File \u001b[0;32m~/Documents/Repositories/ReadSpyn/src/readout_simulator/simulator.py:5\u001b[0m\n\u001b[1;32m      3\u001b[0m \u001b[38;5;28;01mimport\u001b[39;00m \u001b[38;5;21;01mnumpy\u001b[39;00m \u001b[38;5;28;01mas\u001b[39;00m \u001b[38;5;21;01mnp\u001b[39;00m\n\u001b[1;32m      4\u001b[0m \u001b[38;5;28;01mimport\u001b[39;00m \u001b[38;5;21;01mmatplotlib\u001b[39;00m\u001b[38;5;21;01m.\u001b[39;00m\u001b[38;5;21;01mpyplot\u001b[39;00m \u001b[38;5;28;01mas\u001b[39;00m \u001b[38;5;21;01mplt\u001b[39;00m\n\u001b[0;32m----> 5\u001b[0m \u001b[38;5;28;01mfrom\u001b[39;00m \u001b[38;5;21;01msensor\u001b[39;00m \u001b[38;5;28;01mimport\u001b[39;00m Resonator\n\u001b[1;32m      6\u001b[0m \u001b[38;5;28;01mfrom\u001b[39;00m \u001b[38;5;21;01mnoise_models\u001b[39;00m \u001b[38;5;28;01mimport\u001b[39;00m OverFNoise\n\u001b[1;32m      7\u001b[0m \u001b[38;5;28;01mfrom\u001b[39;00m \u001b[38;5;21;01mquantum_dot_system\u001b[39;00m \u001b[38;5;28;01mimport\u001b[39;00m QuantumDotSystem\n",
      "\u001b[0;31mImportError\u001b[0m: attempted relative import with no known parent package"
     ]
    }
   ],
   "source": [
    "# src/readout_simulator/main.py\n",
    "\n",
    "import numpy as np\n",
    "from simulator import ReadoutSimulator\n",
    "from sensor import Resonator\n",
    "from noise_models import OverFNoise\n",
    "from quantum_dot_system import QuantumDotSystem\n",
    "\n",
    "\n",
    "Cdd_custom = np.array([[12, -1.5], [-1.5, 11]]) * 1e-18\n",
    "Cds_custom = np.array([[-1.1, 0.2], [0.2, -1.3]]) * 1e-18\n",
    "\n",
    "\n",
    "dot_system = QuantumDotSystem(Cdd=Cdd_custom, Cds=Cds_custom)\n",
    "\n",
    "    # --- Simulation Parameters ---\n",
    "params = { 'SNR_white': 0.01 }\n",
    "t_end = 25  #ns\n",
    "charge_states = [np.array([1, 0,0]), np.array([0, 1,0])]\n",
    "\n",
    "# --- Run Simulation ---\n",
    "simulator = ReadoutSimulator(\n",
    "    dot_system=dot_system\n",
    ")\n",
    "simulator.run_simulation(charge_states, t_end, params)\n",
    "simulator.plot_results()\n",
    "\n",
    "\n"
   ]
  },
  {
   "cell_type": "code",
   "execution_count": null,
   "id": "0736ccca",
   "metadata": {},
   "outputs": [],
   "source": []
  }
 ],
 "metadata": {
  "kernelspec": {
   "display_name": "base",
   "language": "python",
   "name": "python3"
  },
  "language_info": {
   "codemirror_mode": {
    "name": "ipython",
    "version": 3
   },
   "file_extension": ".py",
   "mimetype": "text/x-python",
   "name": "python",
   "nbconvert_exporter": "python",
   "pygments_lexer": "ipython3",
   "version": "3.12.2"
  }
 },
 "nbformat": 4,
 "nbformat_minor": 5
}
