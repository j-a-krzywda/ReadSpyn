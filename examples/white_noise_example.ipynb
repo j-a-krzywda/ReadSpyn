{
  "cells": [
    {
      "cell_type": "raw",
      "metadata": {
        "vscode": {
          "languageId": "raw"
        }
      },
      "source": [
        "# White Noise Addition in ReadSpyn Simulator\n",
        "\n",
        "This notebook demonstrates the new white noise functionality in the ReadSpyn simulator. The white noise is added to the I and Q signals before integration, with the amplitude parameterized based on the average separation between charge states.\n",
        "\n",
        "## Key Features\n",
        "\n",
        "1. **Separation-based noise amplitude**: The white noise amplitude is calculated using the average separation `<d_ij>` between charge states\n",
        "2. **SNR parameterization**: Users can specify the desired signal-to-noise ratio\n",
        "3. **Wiener process implementation**: White noise is added as `dI = x<d_ij>dt/2 + sqrt(Y) dw` where `Y = <d_ij>/(t_end * snr)`\n",
        "\n",
        "## Implementation Details\n",
        "\n",
        "- First, the system is simulated with intrinsic noise (epsilon and c)\n",
        "- The average separation between charge states is computed\n",
        "- White noise is added to I and Q signals with amplitude based on the separation and user-specified SNR\n",
        "- The effective SNR after integration should match the user-specified SNR parameter\n"
      ]
    },
    {
      "cell_type": "code",
      "execution_count": 1,
      "metadata": {},
      "outputs": [
        {
          "name": "stdout",
          "output_type": "stream",
          "text": [
            "ReadSpyn White Noise Example\n",
            "========================================\n"
          ]
        }
      ],
      "source": [
        "import jax\n",
        "import jax.numpy as jnp\n",
        "import numpy as np\n",
        "import matplotlib.pyplot as plt\n",
        "from typing import Dict, Any\n",
        "\n",
        "# Import ReadSpyn components\n",
        "import sys\n",
        "sys.path.append('../src')\n",
        "from readout_simulator import (\n",
        "    QuantumDotSystem, \n",
        "    RLC_sensor, \n",
        "    JAXReadoutSimulator,\n",
        "    OU_noise, \n",
        "    OverFNoise\n",
        ")\n",
        "\n",
        "# Set JAX random key for reproducibility\n",
        "key = jax.random.PRNGKey(42)\n",
        "\n",
        "print(\"ReadSpyn White Noise Example\")\n",
        "print(\"=\" * 40)\n"
      ]
    },
    {
      "cell_type": "raw",
      "metadata": {
        "vscode": {
          "languageId": "raw"
        }
      },
      "source": [
        "## Setup: Define Quantum Dot System and Sensors\n"
      ]
    },
    {
      "cell_type": "code",
      "execution_count": 2,
      "metadata": {},
      "outputs": [
        {
          "name": "stdout",
          "output_type": "stream",
          "text": [
            "Dot-sensor coupling strength (Δε/ε_w): [[0.5757576  0.24242423]]\n",
            "Quantum dot system: 2 dots, 1 sensors\n",
            "[RLC_sensor] Initialized with:\n",
            "  Lc = 8.000e-07 H\n",
            "  Cp = 5.000e-13 F\n",
            "  Self-capacitance = 0.000e+00 F\n",
            "  Total capacitance = 5.000e-13 F\n",
            "  RL = 40 Ω\n",
            "  Rc = 1.000e+08 Ω\n",
            "  Z0 = 50 Ω\n",
            "  R0 = 5.000e+07 Ω\n",
            "  g0 = 2.000e-08 S\n",
            "  eps_w = 1.000e+00 eV\n",
            "  Resonant frequency = 2.516e+08 Hz\n",
            "  Resonant period = 3.974e-09 s\n",
            "  Capacitance noise model: OU_noise\n",
            "  Energy noise model: OverFNoise\n",
            "Sensor resonant frequency: 0.25 GHz\n",
            "Sensor resonant period: 3.97 ns\n"
          ]
        }
      ],
      "source": [
        "# Define quantum dot system (2 dots, 1 sensor)\n",
        "Cdd = jnp.array([[1.0, 0.1], [0.1, 1.0]])  # 2x2 dot-dot capacitance matrix\n",
        "Cds = jnp.array([[0.6], [0.3]])  # 2x1 dot-sensor coupling matrix\n",
        "dot_system = QuantumDotSystem(Cdd, Cds)\n",
        "\n",
        "print(f\"Quantum dot system: {dot_system.num_dots} dots, {dot_system.num_sensors} sensors\")\n",
        "\n",
        "# Configure sensor parameters\n",
        "params_resonator = {\n",
        "    'Lc': 800e-9,      # Inductance (H)\n",
        "    'Cp': 0.5e-12,     # Parasitic capacitance (F)\n",
        "    'RL': 40,          # Load resistance (Ω)\n",
        "    'Rc': 100e6,       # Coupling resistance (Ω)\n",
        "    'Z0': 50           # Characteristic impedance (Ω)\n",
        "}\n",
        "\n",
        "params_coulomb_peak = {\n",
        "    'g0': 1/50/1e6,    # Maximum conductance (S)\n",
        "    'eps0': 0.5,       # Operating point (relative to eps_width)\n",
        "    'eps_width': 1.0   # Energy width (eV)\n",
        "}\n",
        "\n",
        "# Create noise models\n",
        "eps_noise = OverFNoise(n_fluctuators=3, S1=1e-6, sigma_couplings=0.1,\n",
        "                       ommax=1e6, ommin=1e3, equally_dist=True)\n",
        "c_noise = OU_noise(sigma=1e-12, gamma=1e5)\n",
        "\n",
        "# Create sensor\n",
        "sensor = RLC_sensor(params_resonator, params_coulomb_peak, c_noise, eps_noise)\n",
        "\n",
        "print(f\"Sensor resonant frequency: {sensor.f0/1e9:.2f} GHz\")\n",
        "print(f\"Sensor resonant period: {sensor.T0*1e9:.2f} ns\")\n"
      ]
    },
    {
      "cell_type": "raw",
      "metadata": {
        "vscode": {
          "languageId": "raw"
        }
      },
      "source": [
        "## Create Simulator and Define Charge States\n"
      ]
    },
    {
      "cell_type": "code",
      "execution_count": 3,
      "metadata": {},
      "outputs": [
        {
          "name": "stdout",
          "output_type": "stream",
          "text": [
            "Charge states to simulate:\n",
            "  State 0: [0 0]\n",
            "  State 1: [1 0]\n",
            "  State 2: [0 1]\n",
            "  State 3: [1 1]\n",
            "\n",
            "Simulation parameters:\n",
            "  End time: 3.97 μs\n",
            "  Time step: 0.5 ns\n",
            "  Number of time points: 7948\n"
          ]
        }
      ],
      "source": [
        "# Create simulator\n",
        "simulator = JAXReadoutSimulator(dot_system, [sensor])\n",
        "\n",
        "# Define charge states to simulate\n",
        "charge_states = jnp.array([\n",
        "    [0, 0],  # Both dots empty\n",
        "    [1, 0],  # First dot occupied\n",
        "    [0, 1],  # Second dot occupied\n",
        "    [1, 1]   # Both dots occupied\n",
        "])\n",
        "\n",
        "print(f\"Charge states to simulate:\")\n",
        "for i, state in enumerate(charge_states):\n",
        "    print(f\"  State {i}: {state}\")\n",
        "\n",
        "# Define simulation parameters\n",
        "t_end = 1000 * sensor.T0  # 1000 resonant periods\n",
        "dt = 0.5e-9  # 0.5 ns time step\n",
        "times = jnp.arange(0, t_end, dt)\n",
        "\n",
        "print(f\"\\nSimulation parameters:\")\n",
        "print(f\"  End time: {t_end*1e6:.2f} μs\")\n",
        "print(f\"  Time step: {dt*1e9:.1f} ns\")\n",
        "print(f\"  Number of time points: {len(times)}\")\n"
      ]
    },
    {
      "cell_type": "raw",
      "metadata": {
        "vscode": {
          "languageId": "raw"
        }
      },
      "source": [
        "## Calculate Average Separation Between Charge States\n"
      ]
    },
    {
      "cell_type": "code",
      "execution_count": 4,
      "metadata": {},
      "outputs": [
        {
          "name": "stdout",
          "output_type": "stream",
          "text": [
            "Average separation between charge states: 0.000000\n",
            "\n",
            "Individual separations between charge state pairs:\n"
          ]
        },
        {
          "ename": "TypeError",
          "evalue": "Using a non-tuple sequence for multidimensional indexing is not allowed; use `arr[array(seq)]` instead of `arr[seq]`. See https://github.com/google/jax/issues/4564 for more information.",
          "output_type": "error",
          "traceback": [
            "\u001b[0;31m---------------------------------------------------------------------------\u001b[0m",
            "\u001b[0;31mTypeError\u001b[0m                                 Traceback (most recent call last)",
            "Cell \u001b[0;32mIn[4], line 12\u001b[0m\n\u001b[1;32m      9\u001b[0m \u001b[38;5;28;01mfor\u001b[39;00m i \u001b[38;5;129;01min\u001b[39;00m \u001b[38;5;28mrange\u001b[39m(n_states):\n\u001b[1;32m     10\u001b[0m     \u001b[38;5;28;01mfor\u001b[39;00m j \u001b[38;5;129;01min\u001b[39;00m \u001b[38;5;28mrange\u001b[39m(i \u001b[38;5;241m+\u001b[39m \u001b[38;5;241m1\u001b[39m, n_states):\n\u001b[1;32m     11\u001b[0m         \u001b[38;5;66;03m# Calculate separation for this pair\u001b[39;00m\n\u001b[0;32m---> 12\u001b[0m         energy_offsets \u001b[38;5;241m=\u001b[39m simulator\u001b[38;5;241m.\u001b[39m_calculate_energy_offsets(\u001b[43mcharge_states\u001b[49m\u001b[43m[\u001b[49m\u001b[43m[\u001b[49m\u001b[43mi\u001b[49m\u001b[43m,\u001b[49m\u001b[43m \u001b[49m\u001b[43mj\u001b[49m\u001b[43m]\u001b[49m\u001b[43m]\u001b[49m, sensor, \u001b[38;5;241m0\u001b[39m)\n\u001b[1;32m     13\u001b[0m         conductances \u001b[38;5;241m=\u001b[39m simulator\u001b[38;5;241m.\u001b[39m_calculate_conductance(energy_offsets, sensor)\n\u001b[1;32m     14\u001b[0m         separation \u001b[38;5;241m=\u001b[39m \u001b[38;5;28mabs\u001b[39m(conductances[\u001b[38;5;241m0\u001b[39m] \u001b[38;5;241m-\u001b[39m conductances[\u001b[38;5;241m1\u001b[39m])\n",
            "File \u001b[0;32m~/Library/Python/3.9/lib/python/site-packages/jax/_src/array.py:336\u001b[0m, in \u001b[0;36mArrayImpl.__getitem__\u001b[0;34m(self, idx)\u001b[0m\n\u001b[1;32m    333\u001b[0m     \u001b[38;5;28;01melse\u001b[39;00m:\n\u001b[1;32m    334\u001b[0m       \u001b[38;5;28;01mreturn\u001b[39;00m out\n\u001b[0;32m--> 336\u001b[0m \u001b[38;5;28;01mreturn\u001b[39;00m \u001b[43mlax_numpy\u001b[49m\u001b[38;5;241;43m.\u001b[39;49m\u001b[43m_rewriting_take\u001b[49m\u001b[43m(\u001b[49m\u001b[38;5;28;43mself\u001b[39;49m\u001b[43m,\u001b[49m\u001b[43m \u001b[49m\u001b[43midx\u001b[49m\u001b[43m)\u001b[49m\n",
            "File \u001b[0;32m~/Library/Python/3.9/lib/python/site-packages/jax/_src/numpy/lax_numpy.py:6593\u001b[0m, in \u001b[0;36m_rewriting_take\u001b[0;34m(arr, idx, indices_are_sorted, unique_indices, mode, fill_value)\u001b[0m\n\u001b[1;32m   6587\u001b[0m     \u001b[38;5;28;01mif\u001b[39;00m (\u001b[38;5;28misinstance\u001b[39m(aval, core\u001b[38;5;241m.\u001b[39mDShapedArray) \u001b[38;5;129;01mand\u001b[39;00m aval\u001b[38;5;241m.\u001b[39mshape \u001b[38;5;241m==\u001b[39m () \u001b[38;5;129;01mand\u001b[39;00m\n\u001b[1;32m   6588\u001b[0m         dtypes\u001b[38;5;241m.\u001b[39missubdtype(aval\u001b[38;5;241m.\u001b[39mdtype, np\u001b[38;5;241m.\u001b[39minteger) \u001b[38;5;129;01mand\u001b[39;00m\n\u001b[1;32m   6589\u001b[0m         \u001b[38;5;129;01mnot\u001b[39;00m dtypes\u001b[38;5;241m.\u001b[39missubdtype(aval\u001b[38;5;241m.\u001b[39mdtype, dtypes\u001b[38;5;241m.\u001b[39mbool_) \u001b[38;5;129;01mand\u001b[39;00m\n\u001b[1;32m   6590\u001b[0m         \u001b[38;5;28misinstance\u001b[39m(arr\u001b[38;5;241m.\u001b[39mshape[\u001b[38;5;241m0\u001b[39m], \u001b[38;5;28mint\u001b[39m)):\n\u001b[1;32m   6591\u001b[0m       \u001b[38;5;28;01mreturn\u001b[39;00m lax\u001b[38;5;241m.\u001b[39mdynamic_index_in_dim(arr, idx, keepdims\u001b[38;5;241m=\u001b[39m\u001b[38;5;28;01mFalse\u001b[39;00m)\n\u001b[0;32m-> 6593\u001b[0m treedef, static_idx, dynamic_idx \u001b[38;5;241m=\u001b[39m \u001b[43m_split_index_for_jit\u001b[49m\u001b[43m(\u001b[49m\u001b[43midx\u001b[49m\u001b[43m,\u001b[49m\u001b[43m \u001b[49m\u001b[43marr\u001b[49m\u001b[38;5;241;43m.\u001b[39;49m\u001b[43mshape\u001b[49m\u001b[43m)\u001b[49m\n\u001b[1;32m   6594\u001b[0m \u001b[38;5;28;01mreturn\u001b[39;00m _gather(arr, treedef, static_idx, dynamic_idx, indices_are_sorted,\n\u001b[1;32m   6595\u001b[0m                unique_indices, mode, fill_value)\n",
            "File \u001b[0;32m~/Library/Python/3.9/lib/python/site-packages/jax/_src/numpy/lax_numpy.py:6672\u001b[0m, in \u001b[0;36m_split_index_for_jit\u001b[0;34m(idx, shape)\u001b[0m\n\u001b[1;32m   6667\u001b[0m \u001b[38;5;250m\u001b[39m\u001b[38;5;124;03m\"\"\"Splits indices into necessarily-static and dynamic parts.\u001b[39;00m\n\u001b[1;32m   6668\u001b[0m \n\u001b[1;32m   6669\u001b[0m \u001b[38;5;124;03mUsed to pass indices into `jit`-ted function.\u001b[39;00m\n\u001b[1;32m   6670\u001b[0m \u001b[38;5;124;03m\"\"\"\u001b[39;00m\n\u001b[1;32m   6671\u001b[0m \u001b[38;5;66;03m# Convert list indices to tuples in cases (deprecated by NumPy.)\u001b[39;00m\n\u001b[0;32m-> 6672\u001b[0m idx \u001b[38;5;241m=\u001b[39m \u001b[43m_eliminate_deprecated_list_indexing\u001b[49m\u001b[43m(\u001b[49m\u001b[43midx\u001b[49m\u001b[43m)\u001b[49m\n\u001b[1;32m   6673\u001b[0m \u001b[38;5;28;01mif\u001b[39;00m \u001b[38;5;28many\u001b[39m(\u001b[38;5;28misinstance\u001b[39m(i, \u001b[38;5;28mstr\u001b[39m) \u001b[38;5;28;01mfor\u001b[39;00m i \u001b[38;5;129;01min\u001b[39;00m idx):\n\u001b[1;32m   6674\u001b[0m   \u001b[38;5;28;01mraise\u001b[39;00m \u001b[38;5;167;01mTypeError\u001b[39;00m(\u001b[38;5;124mf\u001b[39m\u001b[38;5;124m\"\u001b[39m\u001b[38;5;124mJAX does not support string indexing; got \u001b[39m\u001b[38;5;132;01m{\u001b[39;00midx\u001b[38;5;132;01m=}\u001b[39;00m\u001b[38;5;124m\"\u001b[39m)\n",
            "File \u001b[0;32m~/Library/Python/3.9/lib/python/site-packages/jax/_src/numpy/lax_numpy.py:6938\u001b[0m, in \u001b[0;36m_eliminate_deprecated_list_indexing\u001b[0;34m(idx)\u001b[0m\n\u001b[1;32m   6934\u001b[0m   \u001b[38;5;28;01melse\u001b[39;00m:\n\u001b[1;32m   6935\u001b[0m     msg \u001b[38;5;241m=\u001b[39m (\u001b[38;5;124m\"\u001b[39m\u001b[38;5;124mUsing a non-tuple sequence for multidimensional indexing is not allowed; \u001b[39m\u001b[38;5;124m\"\u001b[39m\n\u001b[1;32m   6936\u001b[0m            \u001b[38;5;124m\"\u001b[39m\u001b[38;5;124muse `arr[array(seq)]` instead of `arr[seq]`. \u001b[39m\u001b[38;5;124m\"\u001b[39m\n\u001b[1;32m   6937\u001b[0m            \u001b[38;5;124m\"\u001b[39m\u001b[38;5;124mSee https://github.com/google/jax/issues/4564 for more information.\u001b[39m\u001b[38;5;124m\"\u001b[39m)\n\u001b[0;32m-> 6938\u001b[0m   \u001b[38;5;28;01mraise\u001b[39;00m \u001b[38;5;167;01mTypeError\u001b[39;00m(msg)\n\u001b[1;32m   6939\u001b[0m \u001b[38;5;28;01melse\u001b[39;00m:\n\u001b[1;32m   6940\u001b[0m   idx \u001b[38;5;241m=\u001b[39m (idx,)\n",
            "\u001b[0;31mTypeError\u001b[0m: Using a non-tuple sequence for multidimensional indexing is not allowed; use `arr[array(seq)]` instead of `arr[seq]`. See https://github.com/google/jax/issues/4564 for more information."
          ]
        }
      ],
      "source": [
        "# Calculate average separation between charge states\n",
        "avg_separation = simulator.calculate_average_separation(charge_states, sensor_idx=0)\n",
        "\n",
        "print(f\"Average separation between charge states: {avg_separation:.6f}\")\n",
        "\n",
        "# Let's also look at individual separations\n",
        "n_states = charge_states.shape[0]\n",
        "print(f\"\\nIndividual separations between charge state pairs:\")\n",
        "for i in range(n_states):\n",
        "    for j in range(i + 1, n_states):\n",
        "        # Calculate separation for this pair\n",
        "        energy_offsets = simulator._calculate_energy_offsets(charge_states[[i, j]], sensor, 0)\n",
        "        conductances = simulator._calculate_conductance(energy_offsets, sensor)\n",
        "        separation = abs(conductances[0] - conductances[1])\n",
        "        print(f\"  States {i} vs {j}: {separation:.6f}\")\n"
      ]
    },
    {
      "cell_type": "raw",
      "metadata": {
        "vscode": {
          "languageId": "raw"
        }
      },
      "source": [
        "## Run Simulation with Different SNR Values\n"
      ]
    },
    {
      "cell_type": "code",
      "execution_count": null,
      "metadata": {},
      "outputs": [],
      "source": [
        "# Precompute noise trajectories\n",
        "n_realizations = 10\n",
        "key, subkey = jax.random.split(key)\n",
        "simulator.precompute_noise(subkey, times, n_realizations, eps_noise)\n",
        "\n",
        "# Test different SNR values\n",
        "snr_values = [0.5, 1.0, 2.0, 5.0]\n",
        "results_dict = {}\n",
        "\n",
        "for snr in snr_values:\n",
        "    print(f\"\\nRunning simulation with SNR = {snr}\")\n",
        "    \n",
        "    # Define simulation parameters\n",
        "    params = {\n",
        "        'eps0': 0.0,\n",
        "        'snr': snr,\n",
        "        't_end': t_end\n",
        "    }\n",
        "    \n",
        "    # Run simulation\n",
        "    key, subkey = jax.random.split(key)\n",
        "    results = simulator.run_simulation(charge_states, times, params, subkey)\n",
        "    results_dict[snr] = results\n",
        "    \n",
        "    print(f\"  Simulation completed for SNR = {snr}\")\n"
      ]
    },
    {
      "cell_type": "raw",
      "metadata": {
        "vscode": {
          "languageId": "raw"
        }
      },
      "source": [
        "## Analyze Results: Plot IQ Trajectories\n"
      ]
    },
    {
      "cell_type": "code",
      "execution_count": null,
      "metadata": {},
      "outputs": [],
      "source": [
        "# Plot IQ trajectories for different SNR values\n",
        "fig, axes = plt.subplots(2, 2, figsize=(15, 12))\n",
        "axes = axes.flatten()\n",
        "\n",
        "colors = ['red', 'blue', 'green', 'orange']\n",
        "state_labels = ['(0,0)', '(1,0)', '(0,1)', '(1,1)']\n",
        "\n",
        "for idx, snr in enumerate(snr_values):\n",
        "    ax = axes[idx]\n",
        "    \n",
        "    # Get integrated IQ data\n",
        "    I_integrated, Q_integrated = simulator.get_integrated_IQ(sensor_idx=0)\n",
        "    \n",
        "    # Plot trajectories for each charge state\n",
        "    for state_idx in range(len(charge_states)):\n",
        "        # Use first realization for plotting\n",
        "        I_traj = I_integrated[state_idx, 0, :]\n",
        "        Q_traj = Q_integrated[state_idx, 0, :]\n",
        "        \n",
        "        ax.plot(I_traj, Q_traj, color=colors[state_idx], alpha=0.7, \n",
        "                label=f'State {state_labels[state_idx]}', linewidth=1)\n",
        "        \n",
        "        # Mark start and end points\n",
        "        ax.scatter(I_traj[0], Q_traj[0], color=colors[state_idx], s=50, marker='o')\n",
        "        ax.scatter(I_traj[-1], Q_traj[-1], color=colors[state_idx], s=50, marker='s')\n",
        "    \n",
        "    ax.set_xlabel('I (integrated)')\n",
        "    ax.set_ylabel('Q (integrated)')\n",
        "    ax.set_title(f'SNR = {snr}')\n",
        "    ax.legend()\n",
        "    ax.grid(True, alpha=0.3)\n",
        "    ax.axis('equal')\n",
        "\n",
        "plt.tight_layout()\n",
        "plt.show()\n"
      ]
    },
    {
      "cell_type": "raw",
      "metadata": {
        "vscode": {
          "languageId": "raw"
        }
      },
      "source": [
        "## Analyze Effective SNR\n"
      ]
    },
    {
      "cell_type": "code",
      "execution_count": null,
      "metadata": {},
      "outputs": [],
      "source": [
        "# Calculate effective SNR for each simulation\n",
        "effective_snr_values = []\n",
        "theoretical_snr_values = []\n",
        "\n",
        "for snr in snr_values:\n",
        "    # Get results for this SNR\n",
        "    results = results_dict[snr]\n",
        "    sensor_results = results['sensor_results'][0]\n",
        "    \n",
        "    # Get integrated IQ data\n",
        "    I_integrated, Q_integrated = simulator.get_integrated_IQ(sensor_idx=0)\n",
        "    \n",
        "    # Calculate centroids for each charge state\n",
        "    n_states = len(charge_states)\n",
        "    centroids = []\n",
        "    \n",
        "    for state_idx in range(n_states):\n",
        "        I_mean = jnp.mean(I_integrated[state_idx, :, -1])  # Final integrated values\n",
        "        Q_mean = jnp.mean(Q_integrated[state_idx, :, -1])\n",
        "        centroids.append([float(I_mean), float(Q_mean)])\n",
        "    \n",
        "    centroids = jnp.array(centroids)\n",
        "    \n",
        "    # Calculate average separation between centroids\n",
        "    separations = []\n",
        "    for i in range(n_states):\n",
        "        for j in range(i + 1, n_states):\n",
        "            separation = jnp.linalg.norm(centroids[i] - centroids[j])\n",
        "            separations.append(separation)\n",
        "    \n",
        "    avg_centroid_separation = float(jnp.mean(jnp.array(separations)))\n",
        "    \n",
        "    # Calculate noise level (standard deviation of final integrated values)\n",
        "    all_final_I = I_integrated[:, :, -1].flatten()\n",
        "    all_final_Q = Q_integrated[:, :, -1].flatten()\n",
        "    noise_level = float(jnp.sqrt(jnp.var(all_final_I) + jnp.var(all_final_Q)))\n",
        "    \n",
        "    # Effective SNR = signal separation / noise level\n",
        "    effective_snr = avg_centroid_separation / noise_level if noise_level > 0 else 0\n",
        "    \n",
        "    effective_snr_values.append(effective_snr)\n",
        "    theoretical_snr_values.append(snr)\n",
        "    \n",
        "    print(f\"SNR = {snr}:\")\n",
        "    print(f\"  Average centroid separation: {avg_centroid_separation:.6f}\")\n",
        "    print(f\"  Noise level: {noise_level:.6f}\")\n",
        "    print(f\"  Effective SNR: {effective_snr:.3f}\")\n",
        "    print()\n",
        "\n",
        "# Plot theoretical vs effective SNR\n",
        "plt.figure(figsize=(8, 6))\n",
        "plt.plot(theoretical_snr_values, effective_snr_values, 'bo-', label='Effective SNR')\n",
        "plt.plot(theoretical_snr_values, theoretical_snr_values, 'r--', label='Theoretical SNR')\n",
        "plt.xlabel('Theoretical SNR')\n",
        "plt.ylabel('Effective SNR')\n",
        "plt.title('Theoretical vs Effective SNR')\n",
        "plt.legend()\n",
        "plt.grid(True, alpha=0.3)\n",
        "plt.show()\n"
      ]
    },
    {
      "cell_type": "raw",
      "metadata": {
        "vscode": {
          "languageId": "raw"
        }
      },
      "source": [
        "## Summary\n",
        "\n",
        "This example demonstrates the new white noise functionality in ReadSpyn:\n",
        "\n",
        "1. **Separation Calculation**: The system first calculates the average separation `<d_ij>` between charge states based on their conductance differences.\n",
        "\n",
        "2. **White Noise Addition**: White noise is added to I and Q signals using the formula:\n",
        "   - `dI = x<d_ij>dt/2 + sqrt(Y) dw`\n",
        "   - `Y = <d_ij>/(t_end * snr)`\n",
        "   - where `dw` is a Wiener process increment\n",
        "\n",
        "3. **SNR Control**: The user can specify the desired SNR, and the system automatically adjusts the noise amplitude to achieve the target SNR after integration.\n",
        "\n",
        "4. **Validation**: The effective SNR after integration should match the user-specified SNR parameter, as demonstrated in the analysis above.\n",
        "\n",
        "This approach provides a physically meaningful way to parameterize white noise in quantum dot readout simulations, ensuring that the noise level is appropriately scaled relative to the signal separation between different charge states.\n"
      ]
    }
  ],
  "metadata": {
    "kernelspec": {
      "display_name": "Python 3",
      "language": "python",
      "name": "python3"
    },
    "language_info": {
      "codemirror_mode": {
        "name": "ipython",
        "version": 3
      },
      "file_extension": ".py",
      "mimetype": "text/x-python",
      "name": "python",
      "nbconvert_exporter": "python",
      "pygments_lexer": "ipython3",
      "version": "3.9.6"
    }
  },
  "nbformat": 4,
  "nbformat_minor": 2
}
